{
 "cells": [
  {
   "cell_type": "markdown",
   "metadata": {
    "tags": []
   },
   "source": [
    "## Loading the required libraries "
   ]
  },
  {
   "cell_type": "code",
   "execution_count": 1,
   "metadata": {},
   "outputs": [],
   "source": [
    "# First of all import the required libraries \n",
    "# Data and math  \n",
    "import pandas as pd\n",
    "import numpy as np \n",
    "import csv\n",
    "\n",
    "# Visualisation \n",
    "import matplotlib.pyplot as plt  # für Matplotlib\n",
    "%matplotlib inline\n",
    "import seaborn as sns            # für Seaborn\n",
    "import plotly.express as px      # für Plotly Express\n",
    "#%matplotlib inline\n",
    "\n",
    "# Import System Libraries \n",
    "import warnings\n",
    "import os\n",
    "# Ignor all warnings, because there is a front problem with mach \n",
    "warnings.filterwarnings(\"ignore\")"
   ]
  },
  {
   "cell_type": "markdown",
   "metadata": {},
   "source": [
    "## Finding the data and loading the data "
   ]
  },
  {
   "cell_type": "code",
   "execution_count": 2,
   "metadata": {},
   "outputs": [
    {
     "name": "stdout",
     "output_type": "stream",
     "text": [
      "/Users/tillo/Repositoriums/FinanceGrouper/data\n",
      "/Users/tillo/Repositoriums/FinanceGrouper/data/DKB_transaction_2023.csv\n",
      "Shape: (534, 12)\n",
      "Column names: Index(['Buchungsdatum', 'Wertstellung', 'Status', 'Zahlungspflichtige*r',\n",
      "       'Zahlungsempfänger*in', 'Verwendungszweck', 'Umsatztyp', 'IBAN',\n",
      "       'Betrag (€)', 'Gläubiger-ID', 'Mandatsreferenz', 'Kundenreferenz'],\n",
      "      dtype='object')\n"
     ]
    }
   ],
   "source": [
    "# Retrieving data \n",
    "\n",
    "# Path to the neighbouring data folder\n",
    "data_path = os.path.join(os.path.dirname(os.getcwd()), 'data')\n",
    "\n",
    "print(data_path)\n",
    "\n",
    "# DKB csv files have a cryptic head which needs to be jumped over to make it readable\n",
    "headerSize = 4\n",
    "\n",
    "# Make empty list for later concatenation of all df \n",
    "dataframes = []\n",
    "\n",
    "# Reading all data and save them in global variables \n",
    "# Iterate through all files in the Data directory\n",
    "for filename in os.listdir(data_path):\n",
    "    # Check if the file is a .csv file\n",
    "    if filename.endswith('.csv'):\n",
    "        # Create the full path to the file\n",
    "        file_path = os.path.join(data_path, filename)\n",
    "\n",
    "        # Extract the last 4 digits of the filename (before the extension)\n",
    "        last_four_digits = filename[-8:-4]  # Assumption: There are always 4 digits before the file extension\n",
    "        \n",
    "        # Make the year variable \n",
    "        year = int(last_four_digits)\n",
    "\n",
    "        # Read the .csv file into a DataFrame\n",
    "        print(file_path)\n",
    "        df = pd.read_csv(file_path, sep=';', skiprows=headerSize, header=0, encoding='utf-8-sig')\n",
    "\n",
    "        # Save the DataFrame under the desired name\n",
    "        globals()[f'df_{last_four_digits}'] = df\n",
    "\n",
    "        # Safe in global list \n",
    "        dataframes.append(df)\n",
    "\n",
    "        # Shape of df \n",
    "        print('Shape:', df.shape)\n",
    "        # Spaltennamen ausgeben\n",
    "        spaltennamen = df.columns\n",
    "        print('Column names:', df.columns) \n",
    "\n",
    "        df.head()\n",
    "\n",
    "# Concatenate all data to one big dataframe\n",
    "df = pd.concat(dataframes, ignore_index=True)\n"
   ]
  },
  {
   "cell_type": "markdown",
   "metadata": {},
   "source": [
    "## First cleaning of data set"
   ]
  },
  {
   "cell_type": "code",
   "execution_count": 3,
   "metadata": {},
   "outputs": [
    {
     "name": "stdout",
     "output_type": "stream",
     "text": [
      "<class 'pandas.core.frame.DataFrame'>\n",
      "RangeIndex: 534 entries, 0 to 533\n",
      "Data columns (total 12 columns):\n",
      " #   Column                Non-Null Count  Dtype \n",
      "---  ------                --------------  ----- \n",
      " 0   Buchungsdatum         534 non-null    object\n",
      " 1   Wertstellung          533 non-null    object\n",
      " 2   Status                534 non-null    object\n",
      " 3   Zahlungspflichtige*r  534 non-null    object\n",
      " 4   Zahlungsempfänger*in  534 non-null    object\n",
      " 5   Verwendungszweck      534 non-null    object\n",
      " 6   Umsatztyp             534 non-null    object\n",
      " 7   IBAN                  534 non-null    object\n",
      " 8   Betrag (€)            534 non-null    object\n",
      " 9   Gläubiger-ID          37 non-null     object\n",
      " 10  Mandatsreferenz       37 non-null     object\n",
      " 11  Kundenreferenz        488 non-null    object\n",
      "dtypes: object(12)\n",
      "memory usage: 50.2+ KB\n",
      "None\n"
     ]
    },
    {
     "data": {
      "text/plain": [
       "0       -11,2\n",
       "1           0\n",
       "2        -147\n",
       "3    2.137,32\n",
       "4      -22,67\n",
       "Name: Betrag (€), dtype: object"
      ]
     },
     "execution_count": 3,
     "metadata": {},
     "output_type": "execute_result"
    }
   ],
   "source": [
    "### Deleting empty columns and rows for each df before saving it in a global variable \n",
    "# Identify columns that contain only NaN values\n",
    "nan_columns = df.columns[df.isna().all()].tolist()    \n",
    "# Drop the columns with only NaN values\n",
    "df.drop(columns=nan_columns, inplace=True)\n",
    "# Delete all rows that are completely empty (i.e., contain only NaN values)\n",
    "empty_rows = df[df.isna().all(axis=1)].index\n",
    "df.drop(index=empty_rows, inplace=True)\n",
    "\n",
    "print(df.info())\n",
    "df['Betrag (€)'].head()"
   ]
  },
  {
   "cell_type": "markdown",
   "metadata": {
    "tags": []
   },
   "source": [
    "## Set type of data of the columns "
   ]
  },
  {
   "cell_type": "code",
   "execution_count": 4,
   "metadata": {},
   "outputs": [],
   "source": [
    "# Fix US / EU decimal-point/comma\n",
    "df['Betrag (€)'] = df['Betrag (€)'].str.replace('.','')\n",
    "df['Betrag (€)'] = df['Betrag (€)'].str.replace(',','.')"
   ]
  },
  {
   "cell_type": "code",
   "execution_count": 5,
   "metadata": {},
   "outputs": [
    {
     "name": "stdout",
     "output_type": "stream",
     "text": [
      "<class 'pandas.core.frame.DataFrame'>\n",
      "RangeIndex: 534 entries, 0 to 533\n",
      "Data columns (total 12 columns):\n",
      " #   Column                Non-Null Count  Dtype         \n",
      "---  ------                --------------  -----         \n",
      " 0   Buchungsdatum         534 non-null    datetime64[ns]\n",
      " 1   Wertstellung          533 non-null    datetime64[ns]\n",
      " 2   Status                534 non-null    category      \n",
      " 3   Zahlungspflichtige*r  534 non-null    string        \n",
      " 4   Zahlungsempfänger*in  534 non-null    string        \n",
      " 5   Verwendungszweck      534 non-null    string        \n",
      " 6   Umsatztyp             534 non-null    category      \n",
      " 7   IBAN                  534 non-null    string        \n",
      " 8   Betrag (€)            534 non-null    float64       \n",
      " 9   Gläubiger-ID          37 non-null     string        \n",
      " 10  Mandatsreferenz       37 non-null     string        \n",
      " 11  Kundenreferenz        488 non-null    string        \n",
      "dtypes: category(2), datetime64[ns](2), float64(1), string(7)\n",
      "memory usage: 43.1 KB\n",
      "None\n"
     ]
    }
   ],
   "source": [
    "\n",
    "# All columns will be set accordingly as dtype to what sort of stuff they contain \n",
    "df['Buchungsdatum'] = pd.to_datetime(df['Buchungsdatum'], format='%d.%m.%y', errors='coerce')\n",
    "df['Wertstellung'] = pd.to_datetime(df['Wertstellung'], format='%d.%m.%y', errors='coerce')\n",
    "df['Status'] = df['Status'].astype('category')\n",
    "df['Zahlungspflichtige*r'] = df['Zahlungspflichtige*r'].astype('string')\n",
    "df['Zahlungsempfänger*in'] = df['Zahlungsempfänger*in'].astype('string')\n",
    "df['Verwendungszweck'] = df['Verwendungszweck'].astype('string')\n",
    "df['Umsatztyp'] = df['Umsatztyp'].astype('category')\n",
    "df['IBAN'] = df['IBAN'].astype('string')\n",
    "\n",
    "# Make sure euro is set to string \n",
    "df['Betrag (€)'] = df['Betrag (€)'].astype(float)\n",
    "\n",
    "df['Gläubiger-ID'] = df['Gläubiger-ID'].astype('string')\n",
    "df['Mandatsreferenz'] = df['Mandatsreferenz'].astype('string')\n",
    "df['Kundenreferenz'] = df['Kundenreferenz'].astype('string')\n",
    "\n",
    "#Check if it worked \n",
    "print(df.info())\n"
   ]
  },
  {
   "cell_type": "code",
   "execution_count": 10,
   "metadata": {},
   "outputs": [
    {
     "data": {
      "image/png": "[encoded data removed]",
      "text/plain": [
       "<Figure size 1200x600 with 1 Axes>"
      ]
     },
     "metadata": {},
     "output_type": "display_data"
    }
   ],
   "source": [
    "# Step 1: Filter the DataFrame for income entries\n",
    "income_data = df[df['Umsatztyp'] == 'Eingang']\n",
    "\n",
    "# Step 3: Group by Buchungsdatum and sum the Betrag (€) to get total income per date\n",
    "total_income_per_date = income_data.groupby('Buchungsdatum')['Betrag (€)'].sum().reset_index()\n",
    "\n",
    "# Step 4: Plotting the total income by booking date\n",
    "plt.figure(figsize=(12, 6))\n",
    "plt.bar(total_income_per_date['Buchungsdatum'], total_income_per_date['Betrag (€)'], color='skyblue', edgecolor='black')\n",
    "plt.title('Total Income by Booking Date')  # Title of the plot\n",
    "plt.xlabel('Booking Date')  # X-axis label\n",
    "plt.ylabel('Total Income (€)')  # Y-axis label\n",
    "plt.xticks(rotation=45)  # Rotate x-ticks for better readability\n",
    "plt.grid(axis='y')  # Add grid lines to y-axis\n",
    "plt.tight_layout()  # Adjust layout\n",
    "plt.show()  # Display the plot"
   ]
  },
  {
   "cell_type": "code",
   "execution_count": null,
   "metadata": {},
   "outputs": [],
   "source": []
  },
  {
   "cell_type": "code",
   "execution_count": 8,
   "metadata": {},
   "outputs": [
    {
     "name": "stdout",
     "output_type": "stream",
     "text": [
      "Data type of amounts: float64\n",
      "    Year  Month  Betrag (€)\n",
      "0   2023      1      999.00\n",
      "1   2023      2     2650.00\n",
      "2   2023      3      999.00\n",
      "3   2023      4      999.00\n",
      "4   2023      5      999.00\n",
      "5   2023      6     1669.92\n",
      "6   2023      7     2232.32\n",
      "7   2023      8     2137.32\n",
      "8   2023      9     2137.32\n",
      "9   2023     10     2137.32\n",
      "10  2023     11     2137.32\n",
      "11  2023     12     2437.32\n"
     ]
    },
    {
     "data": {
      "image/png": "[encoded data removed]",
      "text/plain": [
       "<Figure size 1000x600 with 1 Axes>"
      ]
     },
     "metadata": {},
     "output_type": "display_data"
    },
    {
     "data": {
      "image/png": "[encoded data removed]",
      "text/plain": [
       "<Figure size 1000x600 with 1 Axes>"
      ]
     },
     "metadata": {},
     "output_type": "display_data"
    },
    {
     "name": "stdout",
     "output_type": "stream",
     "text": [
      "<class 'pandas.core.frame.DataFrame'>\n",
      "RangeIndex: 12 entries, 0 to 11\n",
      "Data columns (total 3 columns):\n",
      " #   Column      Non-Null Count  Dtype  \n",
      "---  ------      --------------  -----  \n",
      " 0   Year        12 non-null     int64  \n",
      " 1   Month       12 non-null     int64  \n",
      " 2   Betrag (€)  12 non-null     float64\n",
      "dtypes: float64(1), int64(2)\n",
      "memory usage: 416.0 bytes\n",
      "None\n"
     ]
    }
   ],
   "source": [
    "# Step 1: Filter the DataFrame for income transactions\n",
    "income = df[df['Umsatztyp'] == 'Eingang']  # Filter for 'Income' transactions\n",
    "\n",
    "# Step 2: Convert the 'Buchungsdatum' to datetime format\n",
    "income['Buchungsdatum'] = pd.to_datetime(income['Buchungsdatum'], errors='coerce')  # Coerce errors to NaT\n",
    "\n",
    "# Step 3: Extract Year and Month from the 'Buchungsdatum'\n",
    "income['Year'] = income['Buchungsdatum'].dt.year\n",
    "income['Month'] = income['Buchungsdatum'].dt.month\n",
    "\n",
    "# Step 4: Sum the amounts by Year and Month\n",
    "income_aggregated = income.groupby(['Year', 'Month'])['Betrag (€)'].sum().reset_index()\n",
    "\n",
    "# Remove rows with NaN in the 'Betrag (€)' column\n",
    "income_aggregated.dropna(subset=['Betrag (€)'], inplace=True)\n",
    "\n",
    "# Debugging: Print the data type and the aggregated DataFrame\n",
    "print(\"Data type of amounts:\", income_aggregated['Betrag (€)'].dtype)\n",
    "print(income_aggregated)\n",
    "\n",
    "\n",
    "# Step: Create a histogram of income amounts\n",
    "plt.figure(figsize=(10, 6))\n",
    "plt.hist(income_aggregated['Betrag (€)'], bins=len(income_aggregated['Month']), color='skyblue', edgecolor='black')  # Histogram\n",
    "plt.title('Histogram of Monthly Income')  # Title of the plot\n",
    "plt.xlabel('Income (€)')  # X-axis label\n",
    "plt.ylabel('Frequency')  # Y-axis label\n",
    "plt.xticks(rotation=45)  # Rotate x-ticks if necessary\n",
    "plt.grid(axis='y')  # Add grid lines to y-axis\n",
    "plt.tight_layout()  # Adjust layout\n",
    "plt.show()  # Display the plot\n",
    "\n",
    "# Step: Create a scatter plot\n",
    "plt.figure(figsize=(10, 6))\n",
    "plt.scatter(income_aggregated['Month'], income_aggregated['Betrag (€)'], color='blue', marker='o')  # Scatter plot\n",
    "plt.title('Monthly Income Scatter Plot')  # Title of the plot\n",
    "plt.xlabel('Month')  # X-axis label\n",
    "plt.ylabel('Income (€)')  # Y-axis label\n",
    "plt.xticks(income_aggregated['Month'])  # Set x-ticks to show each month\n",
    "plt.grid(True)  # Add grid lines\n",
    "plt.tight_layout()  # Adjust layout\n",
    "plt.show()  # Display the plot\n",
    "\n",
    "print(income_aggregated.info())"
   ]
  },
  {
   "cell_type": "code",
   "execution_count": null,
   "metadata": {},
   "outputs": [],
   "source": []
  },
  {
   "cell_type": "markdown",
   "metadata": {},
   "source": [
    "### Read csv\n",
    "Works for DKB csv as of 2022-12-31."
   ]
  },
  {
   "cell_type": "code",
   "execution_count": 7,
   "metadata": {
    "collapsed": false,
    "jupyter": {
     "outputs_hidden": false
    }
   },
   "outputs": [
    {
     "ename": "NameError",
     "evalue": "name 'csv_file' is not defined",
     "output_type": "error",
     "traceback": [
      "\u001b[0;31m---------------------------------------------------------------------------\u001b[0m",
      "\u001b[0;31mNameError\u001b[0m                                 Traceback (most recent call last)",
      "Cell \u001b[0;32mIn[7], line 2\u001b[0m\n\u001b[1;32m      1\u001b[0m \u001b[38;5;66;03m# Read metadata\u001b[39;00m\n\u001b[0;32m----> 2\u001b[0m \u001b[38;5;28;01mwith\u001b[39;00m \u001b[38;5;28mopen\u001b[39m(\u001b[43mcsv_file\u001b[49m,\u001b[38;5;124m\"\u001b[39m\u001b[38;5;124mr\u001b[39m\u001b[38;5;124m\"\u001b[39m,encoding\u001b[38;5;241m=\u001b[39m\u001b[38;5;124m\"\u001b[39m\u001b[38;5;124mlatin-1\u001b[39m\u001b[38;5;124m\"\u001b[39m) \u001b[38;5;28;01mas\u001b[39;00m f:\n\u001b[1;32m      3\u001b[0m     reader \u001b[38;5;241m=\u001b[39m csv\u001b[38;5;241m.\u001b[39mDictReader(f,delimiter\u001b[38;5;241m=\u001b[39m\u001b[38;5;124m\"\u001b[39m\u001b[38;5;124m;\u001b[39m\u001b[38;5;124m\"\u001b[39m)\n\u001b[1;32m      4\u001b[0m     metadata \u001b[38;5;241m=\u001b[39m {}\n",
      "\u001b[0;31mNameError\u001b[0m: name 'csv_file' is not defined"
     ]
    }
   ],
   "source": [
    "# Read metadata\n",
    "with open(csv_file,\"r\",encoding=\"latin-1\") as f:\n",
    "    reader = csv.DictReader(f,delimiter=\";\")\n",
    "    metadata = {}\n",
    "    for i, row in enumerate(reader):\n",
    "        if i < 3:\n",
    "            key = None\n",
    "            value = None\n",
    "            for k, v in row.items():\n",
    "                if k == \"Kontonummer:\":\n",
    "                    key = row[\"Kontonummer:\"]\n",
    "                    continue\n",
    "                if k == \"\":\n",
    "                    continue\n",
    "                value = v\n",
    "            \n",
    "            if \":\" in key:\n",
    "                key = key.replace(\":\",\"\")\n",
    "            if \"Kontostand\" in key:\n",
    "                key = \"Kontostand\"\n",
    "            if \"EUR\" in value:\n",
    "                value = value.replace(\" \",\"\").replace(\"EUR\",\"\")\n",
    "\n",
    "            metadata[key] = value\n",
    "            \n",
    "# print(metadata)\n",
    "\n",
    "start_date = datetime.strptime(metadata[\"Von\"],\"%d.%m.%Y\").date()\n",
    "end_date = datetime.strptime(metadata[\"Bis\"],\"%d.%m.%Y\").date()\n",
    "end_balance = float(metadata[\"Kontostand\"].replace(\".\",\"\").replace(\",\",\".\"))"
   ]
  },
  {
   "cell_type": "code",
   "execution_count": null,
   "metadata": {
    "tags": []
   },
   "outputs": [],
   "source": [
    "print(\"start:\",start_date)\n",
    "print(\"end:\",end_date)\n",
    "print(\"end balance:\",end_balance)"
   ]
  },
  {
   "cell_type": "markdown",
   "metadata": {},
   "source": [
    "## Named Columns"
   ]
  },
  {
   "cell_type": "code",
   "execution_count": null,
   "metadata": {},
   "outputs": [],
   "source": [
    "party = \"Auftraggeber / Begünstigter\"\n",
    "category = \"Kategorie\"\n",
    "amount = \"Betrag (EUR)\"\n",
    "cause = \"Verwendungszweck\"\n",
    "posting_text = \"Buchungstext\"\n",
    "balance = \"Kontostand (EUR)\""
   ]
  },
  {
   "cell_type": "markdown",
   "metadata": {},
   "source": [
    "### Cleanup"
   ]
  },
  {
   "cell_type": "code",
   "execution_count": null,
   "metadata": {
    "collapsed": false,
    "jupyter": {
     "outputs_hidden": false
    }
   },
   "outputs": [],
   "source": [
    "# Fix US / EU decimal-point/comma\n",
    "data[amount] = data[amount].str.replace('.','')\n",
    "data[amount] = data[amount].str.replace(',','.')\n",
    "data[amount] = data[amount].astype('float')\n",
    "\n",
    "# avoid nan being interpreted as float in specific columns\n",
    "data[party] = data[party].astype(str)\n",
    "data[cause] = data[cause].astype(str)\n",
    "data[posting_text] = data[posting_text].astype(str)"
   ]
  },
  {
   "cell_type": "code",
   "execution_count": null,
   "metadata": {},
   "outputs": [],
   "source": [
    "data.head()"
   ]
  },
  {
   "cell_type": "markdown",
   "metadata": {},
   "source": [
    "### Remove small transactions to avoid noise"
   ]
  },
  {
   "cell_type": "code",
   "execution_count": null,
   "metadata": {},
   "outputs": [],
   "source": [
    "data = data[abs(data[amount]) > 0.01]"
   ]
  },
  {
   "cell_type": "markdown",
   "metadata": {},
   "source": [
    "### Inverse Dataframe to have first day first and filter by time-range"
   ]
  },
  {
   "cell_type": "code",
   "execution_count": null,
   "metadata": {
    "collapsed": false,
    "jupyter": {
     "outputs_hidden": false
    }
   },
   "outputs": [],
   "source": [
    "from dateutil.relativedelta import relativedelta\n",
    "if number_of_last_months_to_analyse > 0:\n",
    "    start_date = end_date - relativedelta(months=number_of_last_months_to_analyse)\n",
    "    \n",
    "print(f\"Analysing time range: {start_date} -> {end_date}\")\n",
    "data = data.loc[str(start_date):str(end_date)]\n",
    "data = data.iloc[::-1]"
   ]
  },
  {
   "cell_type": "code",
   "execution_count": null,
   "metadata": {
    "collapsed": false,
    "jupyter": {
     "outputs_hidden": false
    }
   },
   "outputs": [],
   "source": [
    "fr = data.index[0]\n",
    "to = data.index[-1]\n",
    "print(fr,\"->\",to)"
   ]
  },
  {
   "cell_type": "markdown",
   "metadata": {},
   "source": [
    "### Compute balance at each transaction"
   ]
  },
  {
   "cell_type": "code",
   "execution_count": null,
   "metadata": {
    "collapsed": false,
    "jupyter": {
     "outputs_hidden": false
    }
   },
   "outputs": [],
   "source": [
    "data_balance = data[amount].sum().round(2)\n",
    "start_balance = end_balance - data_balance\n",
    "data[balance] = data[amount].cumsum()+start_balance"
   ]
  },
  {
   "cell_type": "code",
   "execution_count": null,
   "metadata": {},
   "outputs": [],
   "source": [
    "print(\"start\",start_balance)\n",
    "print(\"end\",end_balance)\n",
    "print(\"balance during csv timespan\",data_balance)"
   ]
  },
  {
   "cell_type": "markdown",
   "metadata": {},
   "source": [
    "## Balance over time"
   ]
  },
  {
   "cell_type": "code",
   "execution_count": null,
   "metadata": {
    "collapsed": false,
    "jupyter": {
     "outputs_hidden": false
    }
   },
   "outputs": [],
   "source": [
    "data[balance].plot(\n",
    "    title='Account balance DKB %s' % accountname,\n",
    "    grid=True,\n",
    "    figsize=(20,8)\n",
    ");"
   ]
  },
  {
   "cell_type": "markdown",
   "metadata": {},
   "source": [
    "## Breakdown by transaction party"
   ]
  },
  {
   "cell_type": "code",
   "execution_count": null,
   "metadata": {
    "collapsed": false,
    "jupyter": {
     "outputs_hidden": false
    }
   },
   "outputs": [],
   "source": [
    "empfgroup = data.groupby(party).agg({amount:\"sum\"})"
   ]
  },
  {
   "cell_type": "code",
   "execution_count": null,
   "metadata": {
    "collapsed": false,
    "jupyter": {
     "outputs_hidden": false
    }
   },
   "outputs": [],
   "source": [
    "# Short the names\n",
    "empfgroup.index = [str(i)[:30] for i in empfgroup.index]"
   ]
  },
  {
   "cell_type": "code",
   "execution_count": null,
   "metadata": {},
   "outputs": [],
   "source": [
    "empfgroup[amount].head()"
   ]
  },
  {
   "cell_type": "code",
   "execution_count": null,
   "metadata": {},
   "outputs": [],
   "source": [
    "empfgroup = empfgroup.sort_values(amount,ascending=False)\n",
    "gutschrift = empfgroup[amount] > 0\n",
    "colors = list( map(lambda x: \"g\" if x else \"r\" , gutschrift) )"
   ]
  },
  {
   "cell_type": "code",
   "execution_count": null,
   "metadata": {
    "tags": []
   },
   "outputs": [],
   "source": [
    "empfgroup[empfgroup[amount].abs() > 50].plot.barh(\n",
    "    figsize=(10,60),\n",
    "    title=u'Aggregierte Zahlungen ab 50€ (%i.%i.%i - %i.%i.%i)' % (fr.day, fr.month, fr.year, to.day, to.month, to.year)\n",
    "  );"
   ]
  },
  {
   "cell_type": "code",
   "execution_count": null,
   "metadata": {},
   "outputs": [],
   "source": [
    "data.head()"
   ]
  },
  {
   "cell_type": "markdown",
   "metadata": {},
   "source": [
    "## Breakdown by Category\n",
    "We use some heuristics on the tranasaction details to put them into different categories.\n",
    "All transactions within a category will be aggregated for a better overall analysis.\n",
    "You may need to check the print output of the next cell and possibly adapt the mapping function for a better categorisation.\n",
    "\n",
    "**the text will be lower cased before categorisation**\n",
    "\n",
    "**Feel free to change these heuristic mappings - or adapt the code to map according to specififc transaction details.**"
   ]
  },
  {
   "cell_type": "code",
   "execution_count": null,
   "metadata": {},
   "outputs": [],
   "source": [
    "categories = {\n",
    "    \"eat_out_or_get_food\": [\n",
    "        \"restaurant\",\n",
    "        \"gastro\",\n",
    "        \"dean david\",\n",
    "        \"cafe\",\n",
    "        \"baeckerei\",\n",
    "        \"coffee fellows\",\n",
    "        \"jim block\",\n",
    "        \"don qui\",\n",
    "        \"Osteria\",\n",
    "        \"subway\",\n",
    "        \"backhaus\",\n",
    "        \"burger king\",\n",
    "        \"campus suite\",\n",
    "        \"juice.more\",\n",
    "        \"Backerei\",\n",
    "        \"Avni Terhani\",\n",
    "        \"vegan\",\n",
    "        \"thai\",\n",
    "        \"indisch\",\n",
    "    ],\n",
    "    \"alltag_laden\": [\n",
    "        \"lidl\",\n",
    "        \"aldi\",\n",
    "        \"edeka\",\n",
    "        \"alnatura\",\n",
    "        \"rewe\",\n",
    "        \"vollcorner\",\n",
    "    ],\n",
    "    \"spezial_laden\": [\n",
    "        \"karstadt\",\n",
    "        \"galeria\",\n",
    "        \"kaufhof\",\n",
    "        \"mueller\",\n",
    "        \"migros\",\n",
    "        \"coop\",\n",
    "        \"dm fil\",\n",
    "        \"go asia\",\n",
    "        \"Drogerie\",\n",
    "        \"SUCKFUELL\",\n",
    "        \"butlers\",\n",
    "        \"Suckfull\",\n",
    "        \"Bio-Market\",\n",
    "        \"conrad m\",\n",
    "    ],\n",
    "    \"online_handel\":[\n",
    "        \"otto\",\n",
    "        \"conrad elec\",\n",
    "        \"amzn mktp\",\n",
    "        \"amazon\",\n",
    "    ],\n",
    "    \"transport\": [\n",
    "        \"FERNVERKEHR\",\n",
    "        \"flixbus\",\n",
    "        \"PAYPAL .DBVERTR\",\n",
    "    ],\n",
    "    \"ausflug\": [\n",
    "        \"hamburg\",\n",
    "        \"Hotel\",\n",
    "        \"PAYPAL .booking\",\n",
    "        \"prague\",\n",
    "        \"praha\",\n",
    "        \"Tubingen\",\n",
    "    ],\n",
    "    \"project\": [\n",
    "        \"openai\",\n",
    "        \"google.cloud\",\n",
    "        \"github\",\n",
    "    ],\n",
    "    \"freizeit\": [\n",
    "        \"VOLKSBAD\",\n",
    "        \"PAYPAL .SENNHEISER\",\n",
    "    ],\n",
    "    \"entertainment\": [\n",
    "        \"magellan\",\n",
    "        \"Amazon Prime\",\n",
    "        \"paypal .steam\",\n",
    "        \"netflix\"\n",
    "    ],\n",
    "    \"crypto\": [\n",
    "        \"bitflyer\",\n",
    "        \"coinbase\"\n",
    "    ],\n",
    "    \"health\": [\n",
    "        \"apotheke\",\n",
    "        \"Krankenversicherung\",\n",
    "    ],\n",
    "    \"cash\": [\n",
    "        \"bargeld\",\n",
    "        \"automat\",\n",
    "        \"cash\"\n",
    "    ],\n",
    "    \"dkb\": [\n",
    "        \"DKB\",\n",
    "        \"KREDITBANK\",\n",
    "    ],\n",
    "    \"miete\": [],\n",
    "    \"investment\": [],\n",
    "    \"emergency_fund\":[],\n",
    "    \"uncategorized\": [\n",
    "        \"PayPal (Europe)\",\n",
    "    ],\n",
    "    \"card_payment\": [],\n",
    "    \"minor\": [ # populated automatically\n",
    "    ]\n",
    "}\n",
    "\n",
    "def mapToCategory(x):\n",
    "    # use these transaction details to map to a category\n",
    "    p = x[party].lower()\n",
    "    pt = x[posting_text].lower()\n",
    "    c = x[cause].lower()\n",
    "    \n",
    "    # manual mappings\n",
    "    if \"WERTP. ABRECHN\".lower() in c or \"Depot \".lower() in c or \"WERTPAPIER\".lower() in c:\n",
    "        return \"investment\"\n",
    "    \n",
    "    if \"miete \".lower() in c:\n",
    "        return \"miete\"\n",
    "    \n",
    "    if \"KREDITKARTENABRECHNUNG\".lower() in c:\n",
    "        return \"card_payment\"\n",
    "    \n",
    "    # mappings by category\n",
    "    for cat, cat_words in categories.items():\n",
    "        if any(map(lambda r: r.lower() in p, cat_words)) or any(map(lambda r: r.lower() in pt, cat_words)):\n",
    "            return cat\n",
    "    \n",
    "    # debitcard. may need adaptation\n",
    "    if \"Debitk.20 VISA Debit\".lower() in c:\n",
    "        return \"card_payment\"\n",
    "    \n",
    "    return p\n",
    "\n",
    "data[category] = data.apply(lambda x: mapToCategory(x), axis=1)\n",
    "\n",
    "print(len(data[category].unique()),\"categories\")\n",
    "\n",
    "print(\"============ uncategorized =================\")\n",
    "s = 0\n",
    "for x in data[category].unique():\n",
    "    ok = False\n",
    "    \n",
    "    for cat in categories.keys():\n",
    "        if x == cat:\n",
    "            ok = True\n",
    "\n",
    "    if not ok:\n",
    "        print(x)\n",
    "        idx = data[category] == x\n",
    "        s = s + abs(data[idx][amount].sum())\n",
    "        \n",
    "print(\"================================ sum of uncategorized: \",s) # todo. this doesn't seem to make sense ... 🤔"
   ]
  },
  {
   "attachments": {},
   "cell_type": "markdown",
   "metadata": {},
   "source": [
    "Breakdown by category. (Ignored transactions below 10€)."
   ]
  },
  {
   "cell_type": "code",
   "execution_count": null,
   "metadata": {
    "tags": []
   },
   "outputs": [],
   "source": [
    "byCategory = data.groupby(category).agg({amount:\"sum\"}).sort_values(amount,ascending=False)\n",
    "byCategory = byCategory[abs(byCategory[amount]) > 10]\n",
    "    \n",
    "\n",
    "costs = byCategory[byCategory[amount] < 0]\n",
    "costs.loc[:,amount] = -costs[amount]\n",
    "\n",
    "total_costs = costs[amount].sum()\n",
    "costs.plot.pie(\n",
    "    figsize=(12,12),\n",
    "    y=amount,\n",
    "    legend=None,\n",
    "    autopct=lambda x: str(round(x/100*total_costs)) + \"€ | \" + str(round(x)) + \"%\",\n",
    "    title=u'Nach Kategorie Aggregierte Kosten (%i.%i.%i - %i.%i.%i)' % (fr.day, fr.month, fr.year, to.day, to.month, to.year)\n",
    ")\n",
    "plt.show()\n",
    "\n",
    "byCategory[byCategory[amount] > 0].plot.pie(\n",
    "    figsize=(12,12),\n",
    "    y=amount,\n",
    "    legend=None,\n",
    "    title=u'Nach Kategorie Aggregiertes Einkommen (%i.%i.%i - %i.%i.%i)' % (fr.day, fr.month, fr.year, to.day, to.month, to.year)\n",
    ")\n",
    "plt.show()\n",
    "\n",
    "\n",
    "byCategory.plot.barh(\n",
    "    figsize=(6,40),\n",
    "    grid=True,\n",
    "    title=u'Nach Kategorie Aggregierte Zahlungen (%i.%i.%i - %i.%i.%i)' % (fr.day, fr.month, fr.year, to.day, to.month, to.year)\n",
    ")\n",
    "plt.show()\n"
   ]
  },
  {
   "cell_type": "markdown",
   "metadata": {},
   "source": [
    "### Category analysis"
   ]
  },
  {
   "cell_type": "code",
   "execution_count": null,
   "metadata": {},
   "outputs": [],
   "source": [
    "def quick_category_analyse(cat,desc=party):\n",
    "    excursions = data[data[category] == cat].sort_values(amount,ascending=True)\n",
    "\n",
    "    excursions.plot.barh(\n",
    "        figsize=(12,12),\n",
    "        x=desc,\n",
    "        y=amount,\n",
    "        legend=None,\n",
    "    )\n",
    "    plt.show()\n",
    "\n",
    "    return excursions"
   ]
  },
  {
   "cell_type": "code",
   "execution_count": null,
   "metadata": {},
   "outputs": [],
   "source": [
    "quick_category_analyse(\"investment\",desc=cause)"
   ]
  },
  {
   "cell_type": "code",
   "execution_count": null,
   "metadata": {},
   "outputs": [],
   "source": [
    "quick_category_analyse(\"dkb\", desc=cause)"
   ]
  },
  {
   "cell_type": "code",
   "execution_count": null,
   "metadata": {},
   "outputs": [],
   "source": [
    "quick_category_analyse(\"ausflug\")"
   ]
  },
  {
   "cell_type": "code",
   "execution_count": null,
   "metadata": {},
   "outputs": [],
   "source": [
    "quick_category_analyse(\"card_payment\")"
   ]
  },
  {
   "cell_type": "code",
   "execution_count": null,
   "metadata": {},
   "outputs": [],
   "source": [
    "quick_category_analyse(\"transport\")"
   ]
  }
 ],
 "metadata": {
  "kernelspec": {
   "display_name": "FinanceGrouper",
   "language": "python",
   "name": "python3"
  },
  "language_info": {
   "codemirror_mode": {
    "name": "ipython",
    "version": 3
   },
   "file_extension": ".py",
   "mimetype": "text/x-python",
   "name": "python",
   "nbconvert_exporter": "python",
   "pygments_lexer": "ipython3",
   "version": "3.9.20"
  }
 },
 "nbformat": 4,
 "nbformat_minor": 4
}
