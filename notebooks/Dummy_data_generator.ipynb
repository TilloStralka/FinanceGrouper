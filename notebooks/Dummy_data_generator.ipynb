{
 "cells": [
  {
   "cell_type": "code",
   "execution_count": null,
   "metadata": {},
   "outputs": [
    {
     "name": "stdout",
     "output_type": "stream",
     "text": [
      "The file has been processed.\n",
      "Number of unique IBANs changed: 61\n",
      "Total replacements made: 1513\n",
      "The updated content has been saved to 'dummy_processed.txt'.\n"
     ]
    }
   ],
   "source": [
    "# For the following script to work, the csv must be placed in a dummy.txt file in the same folder as the script. \n",
    "# You can then use the replaced text data for the csv files. But since this process script is mainly for me to \n",
    "# Make my own banking data available as a showcase for the github repository. \n",
    "# This makes the file for the user probably redundant. \n",
    "\n",
    "\n",
    "import re\n",
    "import random\n",
    "\n",
    "# Function to generate a random sequence of numbers\n",
    "def randomize_number_sequence(length):\n",
    "    return ''.join(str(random.randint(0, 9)) for _ in range(length))\n",
    "\n",
    "# Function to process the file and replace IBANs\n",
    "def process_iban_file(file_name):\n",
    "    try:\n",
    "        # Open the input file and read its content\n",
    "        with open(file_name, 'r', encoding='utf-8') as file:\n",
    "            content = file.read()\n",
    "        \n",
    "        # Pattern to match German IBANs (DE followed by 20 digits)\n",
    "        iban_pattern = r'\\bDE\\d{20}\\b'\n",
    "        \n",
    "        # Find all IBANs in the file\n",
    "        found_ibans = re.findall(iban_pattern, content)\n",
    "        unique_ibans = set(found_ibans)  # Remove duplicates\n",
    "        \n",
    "        # Initialize statistics\n",
    "        total_ibans_changed = len(unique_ibans)  # Count of unique IBANs\n",
    "        total_replacements = 0  # Total number of replacements in the file\n",
    "        \n",
    "        # Dictionary to map original IBANs to randomized versions\n",
    "        iban_map = {}\n",
    "        for iban in unique_ibans:\n",
    "            # Generate a random sequence for the 20 digits\n",
    "            randomized_numbers = randomize_number_sequence(20)\n",
    "            iban_map[iban] = f\"DE{randomized_numbers}\"\n",
    "        \n",
    "        # Replace each IBAN in the file content with its randomized version\n",
    "        for original_iban, randomized_iban in iban_map.items():\n",
    "            # Count how many times this IBAN appears in the content\n",
    "            occurrences = content.count(original_iban)\n",
    "            total_replacements += occurrences  # Add to total replacements\n",
    "            content = content.replace(original_iban, randomized_iban)\n",
    "        \n",
    "        # Write the updated content to a new file\n",
    "        with open('dummy_processed.txt', 'w', encoding='utf-8') as output_file:\n",
    "            output_file.write(content)\n",
    "        \n",
    "        # Print statistics about the changes\n",
    "        print(f\"The file has been processed.\")\n",
    "        print(f\"Number of unique IBANs changed: {total_ibans_changed}\")\n",
    "        print(f\"Total replacements made: {total_replacements}\")\n",
    "        print(f\"The updated content has been saved to 'dummy_processed.txt'.\")\n",
    "    \n",
    "    except FileNotFoundError:\n",
    "        # Handle the case where the file does not exist\n",
    "        print(f\"The file '{file_name}' was not found.\")\n",
    "    except Exception as e:\n",
    "        # Handle any other unexpected errors\n",
    "        print(f\"An error occurred: {e}\")\n",
    "\n",
    "# Main program\n",
    "if __name__ == \"__main__\":\n",
    "    # Name of the file to be processed\n",
    "    input_file_name = 'dummy.txt'\n",
    "    process_iban_file(input_file_name)\n"
   ]
  }
 ],
 "metadata": {
  "kernelspec": {
   "display_name": "FinanceGrouper",
   "language": "python",
   "name": "python3"
  },
  "language_info": {
   "codemirror_mode": {
    "name": "ipython",
    "version": 3
   },
   "file_extension": ".py",
   "mimetype": "text/x-python",
   "name": "python",
   "nbconvert_exporter": "python",
   "pygments_lexer": "ipython3",
   "version": "3.9.20"
  }
 },
 "nbformat": 4,
 "nbformat_minor": 2
}
