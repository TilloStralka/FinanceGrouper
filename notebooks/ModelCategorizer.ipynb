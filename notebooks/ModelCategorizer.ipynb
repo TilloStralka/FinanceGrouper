{
 "cells": [
  {
   "cell_type": "markdown",
   "metadata": {
    "tags": []
   },
   "source": [
    "# 1. Loading the required libraries "
   ]
  },
  {
   "cell_type": "code",
   "execution_count": 2,
   "metadata": {},
   "outputs": [],
   "source": [
    "# Import the required libraries\n",
    "\n",
    "# Data manipulation and math operations\n",
    "import pandas as pd  # For data manipulation and DataFrame operations\n",
    "import numpy as np  # For numerical operations and array handling\n",
    "\n",
    "# Machine Learning libraries\n",
    "from sklearn.model_selection import train_test_split  # For splitting data into training and test sets\n",
    "from sklearn.feature_extraction.text import TfidfVectorizer  # For text feature extraction\n",
    "from sklearn.ensemble import RandomForestClassifier  # For classification using Random Forests\n",
    "from sklearn.metrics import accuracy_score, classification_report  # For evaluating classification performance\n",
    "\n",
    "# Additional preprocessing libraries\n",
    "from sklearn.preprocessing import OneHotEncoder  # For encoding categorical variables\n",
    "from sklearn.preprocessing import StandardScaler  # For standardizing features\n",
    "\n",
    "# Regression model and evaluation\n",
    "from sklearn.linear_model import LinearRegression  # For linear regression model\n",
    "from sklearn.metrics import mean_squared_error  # For calculating mean squared error (MSE) as an evaluation metric\n",
    "\n",
    "# System libraries\n",
    "import warnings  # For managing warning messages\n",
    "import sys  # For system-specific parameters and functions\n",
    "import os  # For interacting with the operating system\n",
    "\n",
    "# Ignore all warnings (useful for ignoring non-critical warnings)\n",
    "warnings.filterwarnings(\"ignore\")\n",
    "\n",
    "# Add the src directory to the system path\n",
    "sys.path.append(os.path.abspath(os.path.join('..', 'src')))\n",
    "\n",
    "# Custom utilities\n",
    "from utils_finance import *  # Import custom functions from utils_finance module\n"
   ]
  },
  {
   "cell_type": "markdown",
   "metadata": {},
   "source": [
    "# 2. Searching for existing models and loading them"
   ]
  },
  {
   "cell_type": "code",
   "execution_count": null,
   "metadata": {},
   "outputs": [],
   "source": []
  },
  {
   "cell_type": "markdown",
   "metadata": {},
   "source": [
    "# 3 Searching for training data "
   ]
  },
  {
   "cell_type": "code",
   "execution_count": 8,
   "metadata": {},
   "outputs": [
    {
     "name": "stdout",
     "output_type": "stream",
     "text": [
      "/Users/tillo/Repositoriums/FinanceGrouper/data\n",
      "/Users/tillo/Repositoriums/FinanceGrouper/data/Training_Data.csv\n"
     ]
    },
    {
     "ename": "ParserError",
     "evalue": "Error tokenizing data. C error: Expected 2 fields in line 10, saw 3\n",
     "output_type": "error",
     "traceback": [
      "\u001b[0;31m---------------------------------------------------------------------------\u001b[0m",
      "\u001b[0;31mParserError\u001b[0m                               Traceback (most recent call last)",
      "Cell \u001b[0;32mIn[8], line 11\u001b[0m\n\u001b[1;32m      9\u001b[0m training_data_path \u001b[38;5;241m=\u001b[39m os\u001b[38;5;241m.\u001b[39mpath\u001b[38;5;241m.\u001b[39mjoin(data_path, \u001b[38;5;124m\"\u001b[39m\u001b[38;5;124mTraining_Data.csv\u001b[39m\u001b[38;5;124m\"\u001b[39m)\n\u001b[1;32m     10\u001b[0m \u001b[38;5;28mprint\u001b[39m(training_data_path)\n\u001b[0;32m---> 11\u001b[0m df \u001b[38;5;241m=\u001b[39m \u001b[43mpd\u001b[49m\u001b[38;5;241;43m.\u001b[39;49m\u001b[43mread_csv\u001b[49m\u001b[43m(\u001b[49m\u001b[43mtraining_data_path\u001b[49m\u001b[43m)\u001b[49m\n\u001b[1;32m     12\u001b[0m \u001b[38;5;28mprint\u001b[39m(\u001b[38;5;124mf\u001b[39m\u001b[38;5;124m\"\u001b[39m\u001b[38;5;124mLoaded Training_Data.csv with shape: \u001b[39m\u001b[38;5;132;01m{\u001b[39;00mdf\u001b[38;5;241m.\u001b[39mshape\u001b[38;5;132;01m}\u001b[39;00m\u001b[38;5;124m\"\u001b[39m)\n\u001b[1;32m     13\u001b[0m \u001b[38;5;28mprint\u001b[39m(\u001b[38;5;124m\"\u001b[39m\u001b[38;5;124mColumn names:\u001b[39m\u001b[38;5;124m\"\u001b[39m, df\u001b[38;5;241m.\u001b[39mcolumns)\n",
      "File \u001b[0;32m~/opt/anaconda3/envs/FinanceGrouper/lib/python3.9/site-packages/pandas/io/parsers/readers.py:1026\u001b[0m, in \u001b[0;36mread_csv\u001b[0;34m(filepath_or_buffer, sep, delimiter, header, names, index_col, usecols, dtype, engine, converters, true_values, false_values, skipinitialspace, skiprows, skipfooter, nrows, na_values, keep_default_na, na_filter, verbose, skip_blank_lines, parse_dates, infer_datetime_format, keep_date_col, date_parser, date_format, dayfirst, cache_dates, iterator, chunksize, compression, thousands, decimal, lineterminator, quotechar, quoting, doublequote, escapechar, comment, encoding, encoding_errors, dialect, on_bad_lines, delim_whitespace, low_memory, memory_map, float_precision, storage_options, dtype_backend)\u001b[0m\n\u001b[1;32m   1013\u001b[0m kwds_defaults \u001b[38;5;241m=\u001b[39m _refine_defaults_read(\n\u001b[1;32m   1014\u001b[0m     dialect,\n\u001b[1;32m   1015\u001b[0m     delimiter,\n\u001b[0;32m   (...)\u001b[0m\n\u001b[1;32m   1022\u001b[0m     dtype_backend\u001b[38;5;241m=\u001b[39mdtype_backend,\n\u001b[1;32m   1023\u001b[0m )\n\u001b[1;32m   1024\u001b[0m kwds\u001b[38;5;241m.\u001b[39mupdate(kwds_defaults)\n\u001b[0;32m-> 1026\u001b[0m \u001b[38;5;28;01mreturn\u001b[39;00m \u001b[43m_read\u001b[49m\u001b[43m(\u001b[49m\u001b[43mfilepath_or_buffer\u001b[49m\u001b[43m,\u001b[49m\u001b[43m \u001b[49m\u001b[43mkwds\u001b[49m\u001b[43m)\u001b[49m\n",
      "File \u001b[0;32m~/opt/anaconda3/envs/FinanceGrouper/lib/python3.9/site-packages/pandas/io/parsers/readers.py:626\u001b[0m, in \u001b[0;36m_read\u001b[0;34m(filepath_or_buffer, kwds)\u001b[0m\n\u001b[1;32m    623\u001b[0m     \u001b[38;5;28;01mreturn\u001b[39;00m parser\n\u001b[1;32m    625\u001b[0m \u001b[38;5;28;01mwith\u001b[39;00m parser:\n\u001b[0;32m--> 626\u001b[0m     \u001b[38;5;28;01mreturn\u001b[39;00m \u001b[43mparser\u001b[49m\u001b[38;5;241;43m.\u001b[39;49m\u001b[43mread\u001b[49m\u001b[43m(\u001b[49m\u001b[43mnrows\u001b[49m\u001b[43m)\u001b[49m\n",
      "File \u001b[0;32m~/opt/anaconda3/envs/FinanceGrouper/lib/python3.9/site-packages/pandas/io/parsers/readers.py:1923\u001b[0m, in \u001b[0;36mTextFileReader.read\u001b[0;34m(self, nrows)\u001b[0m\n\u001b[1;32m   1916\u001b[0m nrows \u001b[38;5;241m=\u001b[39m validate_integer(\u001b[38;5;124m\"\u001b[39m\u001b[38;5;124mnrows\u001b[39m\u001b[38;5;124m\"\u001b[39m, nrows)\n\u001b[1;32m   1917\u001b[0m \u001b[38;5;28;01mtry\u001b[39;00m:\n\u001b[1;32m   1918\u001b[0m     \u001b[38;5;66;03m# error: \"ParserBase\" has no attribute \"read\"\u001b[39;00m\n\u001b[1;32m   1919\u001b[0m     (\n\u001b[1;32m   1920\u001b[0m         index,\n\u001b[1;32m   1921\u001b[0m         columns,\n\u001b[1;32m   1922\u001b[0m         col_dict,\n\u001b[0;32m-> 1923\u001b[0m     ) \u001b[38;5;241m=\u001b[39m \u001b[38;5;28;43mself\u001b[39;49m\u001b[38;5;241;43m.\u001b[39;49m\u001b[43m_engine\u001b[49m\u001b[38;5;241;43m.\u001b[39;49m\u001b[43mread\u001b[49m\u001b[43m(\u001b[49m\u001b[43m  \u001b[49m\u001b[38;5;66;43;03m# type: ignore[attr-defined]\u001b[39;49;00m\n\u001b[1;32m   1924\u001b[0m \u001b[43m        \u001b[49m\u001b[43mnrows\u001b[49m\n\u001b[1;32m   1925\u001b[0m \u001b[43m    \u001b[49m\u001b[43m)\u001b[49m\n\u001b[1;32m   1926\u001b[0m \u001b[38;5;28;01mexcept\u001b[39;00m \u001b[38;5;167;01mException\u001b[39;00m:\n\u001b[1;32m   1927\u001b[0m     \u001b[38;5;28mself\u001b[39m\u001b[38;5;241m.\u001b[39mclose()\n",
      "File \u001b[0;32m~/opt/anaconda3/envs/FinanceGrouper/lib/python3.9/site-packages/pandas/io/parsers/c_parser_wrapper.py:234\u001b[0m, in \u001b[0;36mCParserWrapper.read\u001b[0;34m(self, nrows)\u001b[0m\n\u001b[1;32m    232\u001b[0m \u001b[38;5;28;01mtry\u001b[39;00m:\n\u001b[1;32m    233\u001b[0m     \u001b[38;5;28;01mif\u001b[39;00m \u001b[38;5;28mself\u001b[39m\u001b[38;5;241m.\u001b[39mlow_memory:\n\u001b[0;32m--> 234\u001b[0m         chunks \u001b[38;5;241m=\u001b[39m \u001b[38;5;28;43mself\u001b[39;49m\u001b[38;5;241;43m.\u001b[39;49m\u001b[43m_reader\u001b[49m\u001b[38;5;241;43m.\u001b[39;49m\u001b[43mread_low_memory\u001b[49m\u001b[43m(\u001b[49m\u001b[43mnrows\u001b[49m\u001b[43m)\u001b[49m\n\u001b[1;32m    235\u001b[0m         \u001b[38;5;66;03m# destructive to chunks\u001b[39;00m\n\u001b[1;32m    236\u001b[0m         data \u001b[38;5;241m=\u001b[39m _concatenate_chunks(chunks)\n",
      "File \u001b[0;32mparsers.pyx:838\u001b[0m, in \u001b[0;36mpandas._libs.parsers.TextReader.read_low_memory\u001b[0;34m()\u001b[0m\n",
      "File \u001b[0;32mparsers.pyx:905\u001b[0m, in \u001b[0;36mpandas._libs.parsers.TextReader._read_rows\u001b[0;34m()\u001b[0m\n",
      "File \u001b[0;32mparsers.pyx:874\u001b[0m, in \u001b[0;36mpandas._libs.parsers.TextReader._tokenize_rows\u001b[0;34m()\u001b[0m\n",
      "File \u001b[0;32mparsers.pyx:891\u001b[0m, in \u001b[0;36mpandas._libs.parsers.TextReader._check_tokenize_status\u001b[0;34m()\u001b[0m\n",
      "File \u001b[0;32mparsers.pyx:2061\u001b[0m, in \u001b[0;36mpandas._libs.parsers.raise_parser_error\u001b[0;34m()\u001b[0m\n",
      "\u001b[0;31mParserError\u001b[0m: Error tokenizing data. C error: Expected 2 fields in line 10, saw 3\n"
     ]
    }
   ],
   "source": [
    "# Retrieving data \n",
    "\n",
    "# Path to the neighboring 'data' folder in the local repository\n",
    "data_path = os.path.abspath(os.path.join(os.getcwd(), '..', 'data'))\n",
    "print(data_path)\n",
    "\n",
    "\n",
    "# Open \"Training_Data.csv\" and store it in a DataFrame called df\n",
    "training_data_path = os.path.join(data_path, \"Training_Data.csv\")\n",
    "print(training_data_path)\n",
    "df = pd.read_csv(training_data_path)\n",
    "print(f\"Loaded Training_Data.csv with shape: {df.shape}\")\n",
    "print(\"Column names:\", df.columns)"
   ]
  },
  {
   "cell_type": "code",
   "execution_count": null,
   "metadata": {},
   "outputs": [],
   "source": [
    "inspect_data(df)"
   ]
  },
  {
   "cell_type": "code",
   "execution_count": 9,
   "metadata": {},
   "outputs": [],
   "source": [
    "import pandas as pd\n",
    "from sklearn.model_selection import train_test_split\n",
    "from sklearn.feature_extraction.text import TfidfVectorizer\n",
    "from sklearn.ensemble import RandomForestClassifier\n",
    "from sklearn.metrics import accuracy_score, classification_report\n",
    "\n",
    "# Step 1: Load the dataset\n",
    "# Assuming you have a DataFrame 'df' with columns 'description' (text) and 'category' (target label)\n",
    "df = pd.DataFrame({\n",
    "    'description': [\n",
    "        'Develop and maintain software applications', \n",
    "        'Design marketing campaigns and strategies', \n",
    "        'Manage customer relationships and sales',\n",
    "        'Analyze and report financial data'\n",
    "    ],\n",
    "    'category': ['Engineering', 'Marketing', 'Sales', 'Finance']\n",
    "})\n",
    "\n"
   ]
  },
  {
   "cell_type": "code",
   "execution_count": 10,
   "metadata": {},
   "outputs": [
    {
     "name": "stdout",
     "output_type": "stream",
     "text": [
      "Concatenated DataFrame saved to: /Users/tillo/Repositoriums/FinanceGrouper/data/Training_Data.csv\n"
     ]
    }
   ],
   "source": [
    "\n",
    "# Save the concatenated DataFrame to \"Data_All_Years.csv\"\n",
    "output_path = os.path.join(data_path, \"Training_Data.csv\")\n",
    "df.to_csv(output_path, index=False, sep=';')\n",
    "print(f\"Concatenated DataFrame saved to: {output_path}\")\n",
    "\n"
   ]
  },
  {
   "cell_type": "code",
   "execution_count": null,
   "metadata": {},
   "outputs": [],
   "source": [
    "\n",
    "# Step 2: Split the data into training and testing sets\n",
    "X = df['description']\n",
    "y = df['category']\n",
    "X_train, X_test, y_train, y_test = train_test_split(X, y, test_size=0.3, random_state=42)\n",
    "\n",
    "# Step 3: Convert text to numerical features using TF-IDF Vectorizer\n",
    "vectorizer = TfidfVectorizer(stop_words='english')\n",
    "X_train_tfidf = vectorizer.fit_transform(X_train)\n",
    "X_test_tfidf = vectorizer.transform(X_test)\n",
    "\n",
    "# Step 4: Train a Random Forest Classifier\n",
    "model = RandomForestClassifier(n_estimators=100, random_state=42)\n",
    "model.fit(X_train_tfidf, y_train)\n",
    "\n",
    "# Step 5: Make predictions and evaluate the model\n",
    "y_pred = model.predict(X_test_tfidf)\n",
    "\n",
    "# Step 6: Print accuracy and classification report\n",
    "print(\"Accuracy:\", accuracy_score(y_test, y_pred))\n",
    "print(\"Classification Report:\\n\", classification_report(y_test, y_pred))\n",
    "\n"
   ]
  },
  {
   "cell_type": "markdown",
   "metadata": {},
   "source": [
    "# Next possible steps: \n",
    "# Relableing \n",
    "# Time Series analysis of income with prediction\n",
    "# All functions in the src file -> better overview \n",
    "# Make all the output into a text file with nice formating \n",
    "# Save all the plots also in the overview file (maybe rtf??)\n",
    "# Make categorizer \n",
    "# Execute this with a dummy file into the data bevore publishing \n",
    "https://www.mockaroo.com/\n",
    "# Deployment of already existing machine learning models for word categorizing: German Bert "
   ]
  },
  {
   "cell_type": "code",
   "execution_count": 29,
   "metadata": {},
   "outputs": [
    {
     "name": "stdout",
     "output_type": "stream",
     "text": [
      "Data type of amounts: float64\n",
      "    Year  Month  Betrag (€)\n",
      "0   2022      1     3883.19\n",
      "1   2022      2     2233.19\n",
      "2   2022      3     1583.19\n",
      "3   2022      4     1883.19\n",
      "4   2022      5     1883.19\n",
      "5   2022      6     1643.73\n",
      "6   2022      7     1593.28\n",
      "7   2022      8     4193.28\n",
      "8   2022      9     1814.28\n",
      "9   2022     10     1657.25\n",
      "10  2022     11     3450.92\n",
      "11  2022     12     2317.55\n",
      "12  2023      1      999.00\n",
      "13  2023      2     2650.00\n",
      "14  2023      3      999.00\n",
      "15  2023      4      999.00\n",
      "16  2023      5      999.00\n",
      "17  2023      6     1669.92\n",
      "18  2023      7     2232.32\n",
      "19  2023      8     2137.32\n",
      "20  2023      9     2137.32\n",
      "21  2023     10     2137.32\n",
      "22  2023     11     2137.32\n",
      "23  2023     12     2437.32\n",
      "24  2024      1     3007.24\n",
      "25  2024      2     2758.24\n",
      "26  2024      3     2329.69\n",
      "27  2024      4     2233.14\n",
      "28  2024      5     2162.24\n",
      "29  2024      6     1727.35\n",
      "30  2024      7     1296.30\n",
      "31  2024      8     1336.30\n",
      "32  2024      9     1296.30\n",
      "33  2024     10        0.00\n"
     ]
    },
    {
     "data": {
      "image/png": "[encoded data removed]",
      "text/plain": [
       "<Figure size 1000x600 with 1 Axes>"
      ]
     },
     "metadata": {},
     "output_type": "display_data"
    },
    {
     "data": {
      "image/png": "[encoded data removed]",
      "text/plain": [
       "<Figure size 1000x600 with 1 Axes>"
      ]
     },
     "metadata": {},
     "output_type": "display_data"
    },
    {
     "name": "stdout",
     "output_type": "stream",
     "text": [
      "<class 'pandas.core.frame.DataFrame'>\n",
      "RangeIndex: 34 entries, 0 to 33\n",
      "Data columns (total 3 columns):\n",
      " #   Column      Non-Null Count  Dtype  \n",
      "---  ------      --------------  -----  \n",
      " 0   Year        34 non-null     int32  \n",
      " 1   Month       34 non-null     int32  \n",
      " 2   Betrag (€)  34 non-null     float64\n",
      "dtypes: float64(1), int32(2)\n",
      "memory usage: 672.0 bytes\n",
      "None\n"
     ]
    }
   ],
   "source": [
    "# Step 1: Filter the DataFrame for income transactions\n",
    "income = df[df['Umsatztyp'] == 'Eingang']  # Filter for 'Income' transactions\n",
    "\n",
    "# Step 2: Convert the 'Buchungsdatum' to datetime format\n",
    "income['Buchungsdatum'] = pd.to_datetime(income['Buchungsdatum'], errors='coerce')  # Coerce errors to NaT\n",
    "\n",
    "# Step 3: Extract Year and Month from the 'Buchungsdatum'\n",
    "income['Year'] = income['Buchungsdatum'].dt.year\n",
    "income['Month'] = income['Buchungsdatum'].dt.month\n",
    "\n",
    "# Step 4: Sum the amounts by Year and Month\n",
    "income_aggregated = income.groupby(['Year', 'Month'])['Betrag (€)'].sum().reset_index()\n",
    "\n",
    "# Remove rows with NaN in the 'Betrag (€)' column\n",
    "income_aggregated.dropna(subset=['Betrag (€)'], inplace=True)\n",
    "\n",
    "# Debugging: Print the data type and the aggregated DataFrame\n",
    "print(\"Data type of amounts:\", income_aggregated['Betrag (€)'].dtype)\n",
    "print(income_aggregated)\n",
    "\n",
    "\n",
    "# Step: Create a histogram of income amounts\n",
    "plt.figure(figsize=(10, 6))\n",
    "plt.hist(income_aggregated['Betrag (€)'], bins=len(income_aggregated['Month']), color='skyblue', edgecolor='black')  # Histogram\n",
    "plt.title('Histogram of Monthly Income')  # Title of the plot\n",
    "plt.xlabel('Income (€)')  # X-axis label\n",
    "plt.ylabel('Frequency')  # Y-axis label\n",
    "plt.xticks(rotation=45)  # Rotate x-ticks if necessary\n",
    "plt.grid(axis='y')  # Add grid lines to y-axis\n",
    "plt.tight_layout()  # Adjust layout\n",
    "plt.show()  # Display the plot\n",
    "\n",
    "# Step: Create a scatter plot\n",
    "plt.figure(figsize=(10, 6))\n",
    "plt.scatter(income_aggregated['Month'], income_aggregated['Betrag (€)'], color='blue', marker='o')  # Scatter plot\n",
    "plt.title('Monthly Income Scatter Plot')  # Title of the plot\n",
    "plt.xlabel('Month')  # X-axis label\n",
    "plt.ylabel('Income (€)')  # Y-axis label\n",
    "plt.xticks(income_aggregated['Month'])  # Set x-ticks to show each month\n",
    "plt.grid(True)  # Add grid lines\n",
    "plt.tight_layout()  # Adjust layout\n",
    "plt.show()  # Display the plot\n",
    "\n",
    "print(income_aggregated.info())"
   ]
  },
  {
   "cell_type": "code",
   "execution_count": null,
   "metadata": {},
   "outputs": [],
   "source": []
  },
  {
   "cell_type": "markdown",
   "metadata": {},
   "source": [
    "### Read csv\n",
    "Works for DKB csv as of 2022-12-31."
   ]
  },
  {
   "cell_type": "code",
   "execution_count": 30,
   "metadata": {
    "collapsed": false,
    "jupyter": {
     "outputs_hidden": false
    }
   },
   "outputs": [
    {
     "ename": "NameError",
     "evalue": "name 'csv_file' is not defined",
     "output_type": "error",
     "traceback": [
      "\u001b[0;31m---------------------------------------------------------------------------\u001b[0m",
      "\u001b[0;31mNameError\u001b[0m                                 Traceback (most recent call last)",
      "Cell \u001b[0;32mIn[30], line 2\u001b[0m\n\u001b[1;32m      1\u001b[0m \u001b[38;5;66;03m# Read metadata\u001b[39;00m\n\u001b[0;32m----> 2\u001b[0m \u001b[38;5;28;01mwith\u001b[39;00m \u001b[38;5;28mopen\u001b[39m(\u001b[43mcsv_file\u001b[49m,\u001b[38;5;124m\"\u001b[39m\u001b[38;5;124mr\u001b[39m\u001b[38;5;124m\"\u001b[39m,encoding\u001b[38;5;241m=\u001b[39m\u001b[38;5;124m\"\u001b[39m\u001b[38;5;124mlatin-1\u001b[39m\u001b[38;5;124m\"\u001b[39m) \u001b[38;5;28;01mas\u001b[39;00m f:\n\u001b[1;32m      3\u001b[0m     reader \u001b[38;5;241m=\u001b[39m csv\u001b[38;5;241m.\u001b[39mDictReader(f,delimiter\u001b[38;5;241m=\u001b[39m\u001b[38;5;124m\"\u001b[39m\u001b[38;5;124m;\u001b[39m\u001b[38;5;124m\"\u001b[39m)\n\u001b[1;32m      4\u001b[0m     metadata \u001b[38;5;241m=\u001b[39m {}\n",
      "\u001b[0;31mNameError\u001b[0m: name 'csv_file' is not defined"
     ]
    }
   ],
   "source": [
    "# Read metadata\n",
    "with open(csv_file,\"r\",encoding=\"latin-1\") as f:\n",
    "    reader = csv.DictReader(f,delimiter=\";\")\n",
    "    metadata = {}\n",
    "    for i, row in enumerate(reader):\n",
    "        if i < 3:\n",
    "            key = None\n",
    "            value = None\n",
    "            for k, v in row.items():\n",
    "                if k == \"Kontonummer:\":\n",
    "                    key = row[\"Kontonummer:\"]\n",
    "                    continue\n",
    "                if k == \"\":\n",
    "                    continue\n",
    "                value = v\n",
    "            \n",
    "            if \":\" in key:\n",
    "                key = key.replace(\":\",\"\")\n",
    "            if \"Kontostand\" in key:\n",
    "                key = \"Kontostand\"\n",
    "            if \"EUR\" in value:\n",
    "                value = value.replace(\" \",\"\").replace(\"EUR\",\"\")\n",
    "\n",
    "            metadata[key] = value\n",
    "            \n",
    "# print(metadata)\n",
    "\n",
    "start_date = datetime.strptime(metadata[\"Von\"],\"%d.%m.%Y\").date()\n",
    "end_date = datetime.strptime(metadata[\"Bis\"],\"%d.%m.%Y\").date()\n",
    "end_balance = float(metadata[\"Kontostand\"].replace(\".\",\"\").replace(\",\",\".\"))"
   ]
  },
  {
   "cell_type": "code",
   "execution_count": null,
   "metadata": {
    "tags": []
   },
   "outputs": [],
   "source": [
    "print(\"start:\",start_date)\n",
    "print(\"end:\",end_date)\n",
    "print(\"end balance:\",end_balance)"
   ]
  },
  {
   "cell_type": "markdown",
   "metadata": {},
   "source": [
    "## Named Columns"
   ]
  },
  {
   "cell_type": "code",
   "execution_count": null,
   "metadata": {},
   "outputs": [],
   "source": [
    "party = \"Auftraggeber / Begünstigter\"\n",
    "category = \"Kategorie\"\n",
    "amount = \"Betrag (EUR)\"\n",
    "cause = \"Verwendungszweck\"\n",
    "posting_text = \"Buchungstext\"\n",
    "balance = \"Kontostand (EUR)\""
   ]
  },
  {
   "cell_type": "markdown",
   "metadata": {},
   "source": [
    "### Cleanup"
   ]
  },
  {
   "cell_type": "code",
   "execution_count": null,
   "metadata": {
    "collapsed": false,
    "jupyter": {
     "outputs_hidden": false
    }
   },
   "outputs": [],
   "source": [
    "# Fix US / EU decimal-point/comma\n",
    "data[amount] = data[amount].str.replace('.','')\n",
    "data[amount] = data[amount].str.replace(',','.')\n",
    "data[amount] = data[amount].astype('float')\n",
    "\n",
    "# avoid nan being interpreted as float in specific columns\n",
    "data[party] = data[party].astype(str)\n",
    "data[cause] = data[cause].astype(str)\n",
    "data[posting_text] = data[posting_text].astype(str)"
   ]
  },
  {
   "cell_type": "code",
   "execution_count": null,
   "metadata": {},
   "outputs": [],
   "source": [
    "data.head()"
   ]
  },
  {
   "cell_type": "markdown",
   "metadata": {},
   "source": [
    "### Remove small transactions to avoid noise"
   ]
  },
  {
   "cell_type": "code",
   "execution_count": null,
   "metadata": {},
   "outputs": [],
   "source": [
    "data = data[abs(data[amount]) > 0.01]"
   ]
  },
  {
   "cell_type": "markdown",
   "metadata": {},
   "source": [
    "### Inverse Dataframe to have first day first and filter by time-range"
   ]
  },
  {
   "cell_type": "code",
   "execution_count": null,
   "metadata": {
    "collapsed": false,
    "jupyter": {
     "outputs_hidden": false
    }
   },
   "outputs": [],
   "source": [
    "from dateutil.relativedelta import relativedelta\n",
    "if number_of_last_months_to_analyse > 0:\n",
    "    start_date = end_date - relativedelta(months=number_of_last_months_to_analyse)\n",
    "    \n",
    "print(f\"Analysing time range: {start_date} -> {end_date}\")\n",
    "data = data.loc[str(start_date):str(end_date)]\n",
    "data = data.iloc[::-1]"
   ]
  },
  {
   "cell_type": "code",
   "execution_count": null,
   "metadata": {
    "collapsed": false,
    "jupyter": {
     "outputs_hidden": false
    }
   },
   "outputs": [],
   "source": [
    "fr = data.index[0]\n",
    "to = data.index[-1]\n",
    "print(fr,\"->\",to)"
   ]
  },
  {
   "cell_type": "markdown",
   "metadata": {},
   "source": [
    "### Compute balance at each transaction"
   ]
  },
  {
   "cell_type": "code",
   "execution_count": null,
   "metadata": {
    "collapsed": false,
    "jupyter": {
     "outputs_hidden": false
    }
   },
   "outputs": [],
   "source": [
    "data_balance = data[amount].sum().round(2)\n",
    "start_balance = end_balance - data_balance\n",
    "data[balance] = data[amount].cumsum()+start_balance"
   ]
  },
  {
   "cell_type": "code",
   "execution_count": null,
   "metadata": {},
   "outputs": [],
   "source": [
    "print(\"start\",start_balance)\n",
    "print(\"end\",end_balance)\n",
    "print(\"balance during csv timespan\",data_balance)"
   ]
  },
  {
   "cell_type": "markdown",
   "metadata": {},
   "source": [
    "## Balance over time"
   ]
  },
  {
   "cell_type": "code",
   "execution_count": null,
   "metadata": {
    "collapsed": false,
    "jupyter": {
     "outputs_hidden": false
    }
   },
   "outputs": [],
   "source": [
    "data[balance].plot(\n",
    "    title='Account balance DKB %s' % accountname,\n",
    "    grid=True,\n",
    "    figsize=(20,8)\n",
    ");"
   ]
  },
  {
   "cell_type": "markdown",
   "metadata": {},
   "source": [
    "## Breakdown by transaction party"
   ]
  },
  {
   "cell_type": "code",
   "execution_count": null,
   "metadata": {
    "collapsed": false,
    "jupyter": {
     "outputs_hidden": false
    }
   },
   "outputs": [],
   "source": [
    "empfgroup = data.groupby(party).agg({amount:\"sum\"})"
   ]
  },
  {
   "cell_type": "code",
   "execution_count": null,
   "metadata": {
    "collapsed": false,
    "jupyter": {
     "outputs_hidden": false
    }
   },
   "outputs": [],
   "source": [
    "# Short the names\n",
    "empfgroup.index = [str(i)[:30] for i in empfgroup.index]"
   ]
  },
  {
   "cell_type": "code",
   "execution_count": null,
   "metadata": {},
   "outputs": [],
   "source": [
    "empfgroup[amount].head()"
   ]
  },
  {
   "cell_type": "code",
   "execution_count": null,
   "metadata": {},
   "outputs": [],
   "source": [
    "empfgroup = empfgroup.sort_values(amount,ascending=False)\n",
    "gutschrift = empfgroup[amount] > 0\n",
    "colors = list( map(lambda x: \"g\" if x else \"r\" , gutschrift) )"
   ]
  },
  {
   "cell_type": "code",
   "execution_count": null,
   "metadata": {
    "tags": []
   },
   "outputs": [],
   "source": [
    "empfgroup[empfgroup[amount].abs() > 50].plot.barh(\n",
    "    figsize=(10,60),\n",
    "    title=u'Aggregierte Zahlungen ab 50€ (%i.%i.%i - %i.%i.%i)' % (fr.day, fr.month, fr.year, to.day, to.month, to.year)\n",
    "  );"
   ]
  },
  {
   "cell_type": "code",
   "execution_count": null,
   "metadata": {},
   "outputs": [],
   "source": [
    "data.head()"
   ]
  },
  {
   "cell_type": "markdown",
   "metadata": {},
   "source": [
    "# Idee wie mit torch ein modell trainiert wird das mir die categorisierung abnehmen kann "
   ]
  },
  {
   "cell_type": "code",
   "execution_count": null,
   "metadata": {},
   "outputs": [],
   "source": [
    "import torch\n",
    "from transformers import BertTokenizer, BertForSequenceClassification, Trainer, TrainingArguments\n",
    "from sklearn.model_selection import train_test_split\n",
    "from torch.utils.data import Dataset, DataLoader\n",
    "\n",
    "# Beispiel-Daten für Verwendungszwecke und Kategorien\n",
    "texts = [\"Kauf bei Amazon\", \"Krankenhauskosten\", \"Taxi-Gebühr\", \"Lebensmitteleinkauf\", \"Spende an WWF\"]\n",
    "labels = [2, 0, 1, 3, 4]  # Beispiel-Kategorien: 0 = Gesundheit, 1 = Transport, 2 = Online-Handel, 3 = Lebensmittel, 4 = Spenden\n",
    "\n",
    "# Kategorien festlegen\n",
    "category_names = [\"Gesundheit\", \"Transport\", \"Online-Handel\", \"Lebensmittel\", \"Spenden\"]\n",
    "\n",
    "# Tokenizer und Modell laden\n",
    "tokenizer = BertTokenizer.from_pretrained(\"bert-base-german-cased\")\n",
    "model = BertForSequenceClassification.from_pretrained(\"bert-base-german-cased\", num_labels=len(category_names))\n",
    "\n",
    "# Daten als Dataset formatieren\n",
    "class PurposeDataset(Dataset):\n",
    "    def __init__(self, texts, labels, tokenizer, max_length=64):\n",
    "        self.texts = texts\n",
    "        self.labels = labels\n",
    "        self.tokenizer = tokenizer\n",
    "        self.max_length = max_length\n",
    "\n",
    "    def __len__(self):\n",
    "        return len(self.texts)\n",
    "\n",
    "    def __getitem__(self, idx):\n",
    "        text = self.texts[idx]\n",
    "        label = self.labels[idx]\n",
    "        encoding = self.tokenizer(text, padding=\"max_length\", truncation=True, max_length=self.max_length, return_tensors=\"pt\")\n",
    "        return {key: val.squeeze() for key, val in encoding.items()}, torch.tensor(label)\n",
    "\n",
    "# Train- und Test-Daten erstellen\n",
    "train_texts, val_texts, train_labels, val_labels = train_test_split(texts, labels, test_size=0.2)\n",
    "\n",
    "train_dataset = PurposeDataset(train_texts, train_labels, tokenizer)\n",
    "val_dataset = PurposeDataset(val_texts, val_labels, tokenizer)\n",
    "\n",
    "# Training konfigurieren\n",
    "training_args = TrainingArguments(\n",
    "    output_dir=\"./results\",\n",
    "    evaluation_strategy=\"epoch\",\n",
    "    per_device_train_batch_size=8,\n",
    "    per_device_eval_batch_size=8,\n",
    "    num_train_epochs=3,\n",
    "    weight_decay=0.01,\n",
    ")\n",
    "\n",
    "trainer = Trainer(\n",
    "    model=model,\n",
    "    args=training_args,\n",
    "    train_dataset=train_dataset,\n",
    "    eval_dataset=val_dataset,\n",
    ")\n",
    "\n",
    "# Training durchführen\n",
    "trainer.train()\n",
    "\n",
    "# Beispiel für die Kategorisierung neuer Texte\n",
    "def classify_text(text):\n",
    "    encoding = tokenizer(text, return_tensors=\"pt\", truncation=True, padding=\"max_length\", max_length=64)\n",
    "    outputs = model(**encoding)\n",
    "    logits = outputs.logits\n",
    "    predicted_class_id = torch.argmax(logits, dim=1).item()\n",
    "    return category_names[predicted_class_id]\n",
    "\n",
    "# Beispiel-Anwendung\n",
    "new_text = \"Zahlung an die Krankenkasse\"\n",
    "print(f\"Kategorie für '{new_text}': {classify_text(new_text)}\")\n"
   ]
  },
  {
   "cell_type": "markdown",
   "metadata": {},
   "source": [
    "## Breakdown by Category\n",
    "We use some heuristics on the tranasaction details to put them into different categories.\n",
    "All transactions within a category will be aggregated for a better overall analysis.\n",
    "You may need to check the print output of the next cell and possibly adapt the mapping function for a better categorisation.\n",
    "\n",
    "**the text will be lower cased before categorisation**\n",
    "\n",
    "**Feel free to change these heuristic mappings - or adapt the code to map according to specififc transaction details.**"
   ]
  },
  {
   "cell_type": "code",
   "execution_count": null,
   "metadata": {},
   "outputs": [],
   "source": [
    "categories = {\n",
    "    \"eat_out_or_get_food\": [\n",
    "        \"restaurant\",\n",
    "        \"gastro\",\n",
    "        \"dean david\",\n",
    "        \"cafe\",\n",
    "        \"baeckerei\",\n",
    "        \"coffee fellows\",\n",
    "        \"jim block\",\n",
    "        \"don qui\",\n",
    "        \"Osteria\",\n",
    "        \"subway\",\n",
    "        \"backhaus\",\n",
    "        \"burger king\",\n",
    "        \"campus suite\",\n",
    "        \"juice.more\",\n",
    "        \"Backerei\",\n",
    "        \"Avni Terhani\",\n",
    "        \"vegan\",\n",
    "        \"thai\",\n",
    "        \"indisch\",\n",
    "    ],\n",
    "    \"alltag_laden\": [\n",
    "        \"lidl\",\n",
    "        \"aldi\",\n",
    "        \"edeka\",\n",
    "        \"alnatura\",\n",
    "        \"rewe\",\n",
    "        \"vollcorner\",\n",
    "    ],\n",
    "    \"spezial_laden\": [\n",
    "        \"karstadt\",\n",
    "        \"galeria\",\n",
    "        \"kaufhof\",\n",
    "        \"mueller\",\n",
    "        \"migros\",\n",
    "        \"coop\",\n",
    "        \"dm fil\",\n",
    "        \"go asia\",\n",
    "        \"Drogerie\",\n",
    "        \"SUCKFUELL\",\n",
    "        \"butlers\",\n",
    "        \"Suckfull\",\n",
    "        \"Bio-Market\",\n",
    "        \"conrad m\",\n",
    "    ],\n",
    "    \"online_handel\":[\n",
    "        \"otto\",\n",
    "        \"conrad elec\",\n",
    "        \"amzn mktp\",\n",
    "        \"amazon\",\n",
    "    ],\n",
    "    \"transport\": [\n",
    "        \"FERNVERKEHR\",\n",
    "        \"flixbus\",\n",
    "        \"PAYPAL .DBVERTR\",\n",
    "    ],\n",
    "    \"ausflug\": [\n",
    "        \"hamburg\",\n",
    "        \"Hotel\",\n",
    "        \"PAYPAL .booking\",\n",
    "        \"prague\",\n",
    "        \"praha\",\n",
    "        \"Tubingen\",\n",
    "    ],\n",
    "    \"project\": [\n",
    "        \"openai\",\n",
    "        \"google.cloud\",\n",
    "        \"github\",\n",
    "    ],\n",
    "    \"freizeit\": [\n",
    "        \"VOLKSBAD\",\n",
    "        \"PAYPAL .SENNHEISER\",\n",
    "    ],\n",
    "    \"entertainment\": [\n",
    "        \"magellan\",\n",
    "        \"Amazon Prime\",\n",
    "        \"paypal .steam\",\n",
    "        \"netflix\"\n",
    "    ],\n",
    "    \"crypto\": [\n",
    "        \"bitflyer\",\n",
    "        \"coinbase\"\n",
    "    ],\n",
    "    \"health\": [\n",
    "        \"apotheke\",\n",
    "        \"Krankenversicherung\",\n",
    "    ],\n",
    "    \"cash\": [\n",
    "        \"bargeld\",\n",
    "        \"automat\",\n",
    "        \"cash\"\n",
    "    ],\n",
    "    \"dkb\": [\n",
    "        \"DKB\",\n",
    "        \"KREDITBANK\",\n",
    "    ],\n",
    "    \"miete\": [],\n",
    "    \"investment\": [],\n",
    "    \"emergency_fund\":[],\n",
    "    \"uncategorized\": [\n",
    "        \"PayPal (Europe)\",\n",
    "    ],\n",
    "    \"card_payment\": [],\n",
    "    \"minor\": [ # populated automatically\n",
    "    ]\n",
    "}\n",
    "\n",
    "def mapToCategory(x):\n",
    "    # use these transaction details to map to a category\n",
    "    p = x[party].lower()\n",
    "    pt = x[posting_text].lower()\n",
    "    c = x[cause].lower()\n",
    "    \n",
    "    # manual mappings\n",
    "    if \"WERTP. ABRECHN\".lower() in c or \"Depot \".lower() in c or \"WERTPAPIER\".lower() in c:\n",
    "        return \"investment\"\n",
    "    \n",
    "    if \"miete \".lower() in c:\n",
    "        return \"miete\"\n",
    "    \n",
    "    if \"KREDITKARTENABRECHNUNG\".lower() in c:\n",
    "        return \"card_payment\"\n",
    "    \n",
    "    # mappings by category\n",
    "    for cat, cat_words in categories.items():\n",
    "        if any(map(lambda r: r.lower() in p, cat_words)) or any(map(lambda r: r.lower() in pt, cat_words)):\n",
    "            return cat\n",
    "    \n",
    "    # debitcard. may need adaptation\n",
    "    if \"Debitk.20 VISA Debit\".lower() in c:\n",
    "        return \"card_payment\"\n",
    "    \n",
    "    return p\n",
    "\n",
    "data[category] = data.apply(lambda x: mapToCategory(x), axis=1)\n",
    "\n",
    "print(len(data[category].unique()),\"categories\")\n",
    "\n",
    "print(\"============ uncategorized =================\")\n",
    "s = 0\n",
    "for x in data[category].unique():\n",
    "    ok = False\n",
    "    \n",
    "    for cat in categories.keys():\n",
    "        if x == cat:\n",
    "            ok = True\n",
    "\n",
    "    if not ok:\n",
    "        print(x)\n",
    "        idx = data[category] == x\n",
    "        s = s + abs(data[idx][amount].sum())\n",
    "        \n",
    "print(\"================================ sum of uncategorized: \",s) # todo. this doesn't seem to make sense ... 🤔"
   ]
  }
 ],
 "metadata": {
  "kernelspec": {
   "display_name": "FinanceGrouper",
   "language": "python",
   "name": "python3"
  },
  "language_info": {
   "codemirror_mode": {
    "name": "ipython",
    "version": 3
   },
   "file_extension": ".py",
   "mimetype": "text/x-python",
   "name": "python",
   "nbconvert_exporter": "python",
   "pygments_lexer": "ipython3",
   "version": "3.9.20"
  }
 },
 "nbformat": 4,
 "nbformat_minor": 4
}
